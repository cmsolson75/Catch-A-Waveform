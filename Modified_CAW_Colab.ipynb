{
  "nbformat": 4,
  "nbformat_minor": 0,
  "metadata": {
    "colab": {
      "provenance": [],
      "gpuType": "T4",
      "authorship_tag": "ABX9TyOeu78r1KSZjMvp1F86S8b0",
      "include_colab_link": true
    },
    "kernelspec": {
      "name": "python3",
      "display_name": "Python 3"
    },
    "language_info": {
      "name": "python"
    },
    "accelerator": "GPU"
  },
  "cells": [
    {
      "cell_type": "markdown",
      "metadata": {
        "id": "view-in-github",
        "colab_type": "text"
      },
      "source": [
        "<a href=\"https://colab.research.google.com/github/cmsolson75/Catch-A-Waveform/blob/main/Modified_CAW_Colab.ipynb\" target=\"_parent\"><img src=\"https://colab.research.google.com/assets/colab-badge.svg\" alt=\"Open In Colab\"/></a>"
      ]
    },
    {
      "cell_type": "code",
      "source": [
        "#@title README\n",
        "!yes | pip install --quiet pyfiglet\n",
        "\n",
        "import pyfiglet\n",
        "\n",
        "result = pyfiglet.figlet_format(\"Catch A Waveform\", font=\"small\")\n",
        "\n",
        "print(result)\n",
        "\n",
        "print(\"Catch-A-Waveform | https://github.com/galgreshler/Catch-A-Waveform.git | https://arxiv.org/pdf/2106.06426.pdf | https://galgreshler.github.io/Catch-A-Waveform/\")\n",
        "print(\"Original Modified Code | https://github.com/ZVK/Catch-A-Waveform.git | https://github.com/ZVK\")\n",
        "print(\"Colab Fork | https://github.com/cmsolson75/Catch-A-Waveform\")\n",
        "print(\"Custom collab implementation by Cameron Olson | https://github.com/cmsolson75\")"
      ],
      "metadata": {
        "colab": {
          "base_uri": "https://localhost:8080/"
        },
        "cellView": "form",
        "id": "z72PW0HB1yBw",
        "outputId": "304cf589-3548-4404-ffe4-a9cccdbc6844"
      },
      "execution_count": 1,
      "outputs": [
        {
          "output_type": "stream",
          "name": "stdout",
          "text": [
            "\u001b[?25l     \u001b[90m━━━━━━━━━━━━━━━━━━━━━━━━━━━━━━━━━━━━━━━━\u001b[0m \u001b[32m0.0/1.1 MB\u001b[0m \u001b[31m?\u001b[0m eta \u001b[36m-:--:--\u001b[0m\r\u001b[2K     \u001b[91m━\u001b[0m\u001b[91m╸\u001b[0m\u001b[90m━━━━━━━━━━━━━━━━━━━━━━━━━━━━━━━━━━━━━━\u001b[0m \u001b[32m0.0/1.1 MB\u001b[0m \u001b[31m1.1 MB/s\u001b[0m eta \u001b[36m0:00:01\u001b[0m\r\u001b[2K     \u001b[91m━━━━━━━━━\u001b[0m\u001b[91m╸\u001b[0m\u001b[90m━━━━━━━━━━━━━━━━━━━━━━━━━━━━━━\u001b[0m \u001b[32m0.3/1.1 MB\u001b[0m \u001b[31m4.0 MB/s\u001b[0m eta \u001b[36m0:00:01\u001b[0m\r\u001b[2K     \u001b[91m━━━━━━━━━━━━━━━━━━━━━\u001b[0m\u001b[90m╺\u001b[0m\u001b[90m━━━━━━━━━━━━━━━━━━\u001b[0m \u001b[32m0.6/1.1 MB\u001b[0m \u001b[31m5.3 MB/s\u001b[0m eta \u001b[36m0:00:01\u001b[0m\r\u001b[2K     \u001b[91m━━━━━━━━━━━━━━━━━━━━━━━━━━━━━━━━━\u001b[0m\u001b[90m╺\u001b[0m\u001b[90m━━━━━━\u001b[0m \u001b[32m0.9/1.1 MB\u001b[0m \u001b[31m6.3 MB/s\u001b[0m eta \u001b[36m0:00:01\u001b[0m\r\u001b[2K     \u001b[90m━━━━━━━━━━━━━━━━━━━━━━━━━━━━━━━━━━━━━━━━\u001b[0m \u001b[32m1.1/1.1 MB\u001b[0m \u001b[31m6.4 MB/s\u001b[0m eta \u001b[36m0:00:00\u001b[0m\n",
            "\u001b[?25h  ___      _      _        _    __      __             __               \n",
            " / __|__ _| |_ __| |_     /_\\   \\ \\    / /_ ___ _____ / _|___ _ _ _ __  \n",
            "| (__/ _` |  _/ _| ' \\   / _ \\   \\ \\/\\/ / _` \\ V / -_)  _/ _ \\ '_| '  \\ \n",
            " \\___\\__,_|\\__\\__|_||_| /_/ \\_\\   \\_/\\_/\\__,_|\\_/\\___|_| \\___/_| |_|_|_|\n",
            "                                                                        \n",
            "\n",
            "Catch-A-Waveform | https://github.com/galgreshler/Catch-A-Waveform.git | https://arxiv.org/pdf/2106.06426.pdf | https://galgreshler.github.io/Catch-A-Waveform/\n",
            "Original Modified Code | https://github.com/ZVK/Catch-A-Waveform.git | https://github.com/ZVK\n",
            "Colab Fork | https://github.com/cmsolson75/Catch-A-Waveform\n",
            "Custom collab implementation by Cameron Olson | https://github.com/cmsolson75\n"
          ]
        }
      ]
    },
    {
      "cell_type": "markdown",
      "source": [
        "**Note**: For guidelines on data preparation and managing GPU usage, please scroll to the end of this notebook.\n"
      ],
      "metadata": {
        "id": "j2dZUHfXDi1c"
      }
    },
    {
      "cell_type": "code",
      "execution_count": 13,
      "metadata": {
        "cellView": "form",
        "id": "OhT-K3NK1kSC"
      },
      "outputs": [],
      "source": [
        "#@title Mount Drive\n",
        "from google.colab import drive\n",
        "drive.mount('/content/drive')"
      ]
    },
    {
      "cell_type": "code",
      "source": [
        "#@title Set Up Google Drive\n",
        "import os\n",
        "\n",
        "# Define base path and repo path\n",
        "BASE_PATH = '/content/drive/MyDrive'\n",
        "REPO_PATH = os.path.join(BASE_PATH, 'Modified_CAW_COLAB')\n",
        "\n",
        "# Navigate to the base directory\n",
        "%cd $BASE_PATH\n",
        "\n",
        "# Clone the repository if not already present\n",
        "if not os.path.exists(REPO_PATH):\n",
        "    !git clone https://github.com/cmsolson75/Catch-A-Waveform.git Modified_CAW_COLAB\n",
        "else:\n",
        "    print(\"Repository already exists.\")\n",
        "\n",
        "# Navigate to the repository directory\n",
        "%cd $REPO_PATH"
      ],
      "metadata": {
        "cellView": "form",
        "id": "FWQKFky04mpq"
      },
      "execution_count": 12,
      "outputs": []
    },
    {
      "cell_type": "code",
      "source": [
        "#@title Imports and Setup\n",
        "import sys\n",
        "\n",
        "# Define the repository path for consistent referencing\n",
        "REPO_PATH = '/content/drive/MyDrive/Modified_CAW_COLAB'\n",
        "\n",
        "# Navigate to the repository directory\n",
        "%cd $REPO_PATH\n",
        "\n",
        "# Add the repository path to sys.path for Python module imports\n",
        "# This ensures Python knows where to look for modules and packages in the Google Drive directory\n",
        "sys.path.append(REPO_PATH)\n",
        "\n",
        "# Install required packages from the requirements.txt file\n",
        "# Note: The requirements.txt in the repo seems to have a torch version that's not available.\n",
        "# It's crucial to install the required packages before manually setting the torch version.\n",
        "# If you change anything in the file it all breaks \"DONT TOUCH\"\n",
        "!pip install -r requirements.txt\n",
        "\n",
        "# Manually install a specific version of PyTorch compatible with CUDA 11.3\n",
        "# This step is taken to ensure compatibility with the current Colab environment and the project needs.\n",
        "# Note: This may lead to incompatibilities with other pre-installed torch-related packages in Colab.\n",
        "!pip install torch==1.11.0+cu113 --extra-index-url https://download.pytorch.org/whl/cu113\n",
        "\n",
        "# Install bitsandbytes for CUDA 11.3 compatibility\n",
        "# Needed after installing new pytorch version\n",
        "!pip install bitsandbytes-cuda113\n"
      ],
      "metadata": {
        "cellView": "form",
        "id": "he-a8wE25WwH"
      },
      "execution_count": 11,
      "outputs": []
    },
    {
      "cell_type": "code",
      "source": [
        "#@title Train\n",
        "\n",
        "#@markdown Training audio path\n",
        "TRAINING_DIR = '/content/drive/MyDrive/input/my_training_file.wav' #@param {type:\"string\"}\n",
        "\n",
        "#@markdown Optional Parameters\n",
        "USE_TTUR = False #@param {type:\"boolean\"}\n",
        "USE_LITE_MODE = False #@param {type:\"boolean\"}\n",
        "\n",
        "# Change directory and append path to fix import issues\n",
        "import sys\n",
        "%cd /content/drive/MyDrive/Modified_CAW_COLAB/\n",
        "sys.path.append('/content/drive/MyDrive/Modified_CAW_COLAB')\n",
        "\n",
        "# Construct the command with the base requirements\n",
        "cmd = f\"python train_main.py --input_file {TRAINING_DIR}\"\n",
        "\n",
        "# Add conditional flags based on the toggled parameters\n",
        "if USE_TTUR:\n",
        "    cmd += \" --ttur\"\n",
        "if USE_LITE_MODE:\n",
        "    cmd += \" --lite\"\n",
        "\n",
        "# Start training with the constructed command\n",
        "!$cmd\n"
      ],
      "metadata": {
        "cellView": "form",
        "id": "d9wHGtK29YZu"
      },
      "execution_count": 8,
      "outputs": []
    },
    {
      "cell_type": "code",
      "source": [
        "#@title Transfer Learning\n",
        "\n",
        "#@markdown Specify the path of the new training data:\n",
        "new_training_data_file = \"/path/to/your/new/training/data/file.wav\" #@param{type:\"string\"}\n",
        "\n",
        "#@markdown Specify the directory of the pre-trained model to start with:\n",
        "pretrained_model_directory = \"/content/drive/MyDrive/CAW_PreTrained_Models/Your_Pretrained_Model_Directory\" #@param{type:\"string\"}\n",
        "\n",
        "# Navigate to the directory containing the training script\n",
        "%cd /content/drive/MyDrive/Modified_CAW_COLAB\n",
        "\n",
        "# Construct the transfer learning command\n",
        "cmd = (f\"python train_main.py --input_file {new_training_data_file} \"\n",
        "       f\"--run_mode transfer --output_folder {pretrained_model_directory}\")\n",
        "\n",
        "# Run the transfer learning script\n",
        "!$cmd\n"
      ],
      "metadata": {
        "cellView": "form",
        "id": "jflZXdiNBYvv"
      },
      "execution_count": null,
      "outputs": []
    },
    {
      "cell_type": "code",
      "source": [
        "#@title Unconditional Generation\n",
        "\n",
        "#@markdown Specify the folder containing the trained model for inference:\n",
        "model_folder_name = \"/content/drive/MyDrive/FOLDER_NAME\" #@param{type:\"string\"}\n",
        "\n",
        "# Navigate to the directory containing the inference script\n",
        "%cd /content/drive/MyDrive/Modified_CAW_COLAB\n",
        "\n",
        "# Run the inference script using the specified model folder\n",
        "!python generate_main.py --input_folder $model_folder_name\n"
      ],
      "metadata": {
        "cellView": "form",
        "id": "CZOebmBr-j3E"
      },
      "execution_count": 10,
      "outputs": []
    },
    {
      "cell_type": "code",
      "source": [
        "#@title Conditional Generation\n",
        "\n",
        "#@markdown Specify the folder containing the trained model:\n",
        "model_folder_name = \"/content/drive/MyDrive/inputs/folder_path\" #@param{type:\"string\"}\n",
        "\n",
        "#@markdown Specify the audio file to condition the generation:\n",
        "condition_audio_file = \"/path/to/your/condition/audio/file.wav\" #@param{type:\"string\"}\n",
        "\n",
        "#@markdown (Optional) Specify the frequency scale for conditioning:\n",
        "condition_frequency_scale = \"\" #@param{type:\"string\"}\n",
        "\n",
        "# Navigate to the directory containing the inference script\n",
        "%cd /content/drive/MyDrive/CAW_COLAB\n",
        "\n",
        "# Construct the conditional generation command\n",
        "cmd = f\"python generate_main.py --input_folder {model_folder_name} --condition_file {condition_audio_file}\"\n",
        "if condition_frequency_scale:\n",
        "    cmd += f\" --condition_fs {condition_frequency_scale}\"\n",
        "\n",
        "# Run the conditional generation script\n",
        "!$cmd\n"
      ],
      "metadata": {
        "cellView": "form",
        "id": "7xcRxKoiCKfQ"
      },
      "execution_count": null,
      "outputs": []
    },
    {
      "cell_type": "markdown",
      "source": [
        "### Welcome to my Modified Catch-A-Waveform Colab Notebook!\n",
        "\n",
        "This notebook provides functionalities for training and generating audio waveforms using Catch-A-Waveform. This is a Modified version of CAW and implements several experemental features. Here's a brief overview to get you started:\n",
        "\n",
        "1. **Setup**:\n",
        "   - **Drive Mounting**: Ensure you mount your Google Drive if the dataset or models are stored there.\n",
        "   - **Imports & Setup**: Essential libraries and dependencies are imported in this section.\n",
        "\n",
        "2. **Training**:\n",
        "   - **Regular Training**: Use this cell to train a model from scratch.\n",
        "   - **Transfer Learning**: Fine-tune a pre-trained model on new data.\n",
        "\n",
        "3. **Generation**:\n",
        "   - **Regular Generation**: Generate audio using a trained model.\n",
        "   - **Conditional Generation**: Generate audio conditioned on a specific audio file.\n",
        "\n",
        "**Note**: It's recommended to run the cells in the order they appear. If you encounter any errors, especially related to missing dependencies, ensure the \"Imports & Setup\" cell has been executed.\n",
        "\n",
        "---\n"
      ],
      "metadata": {
        "id": "w5-0XPNxDrtL"
      }
    }
  ]
}